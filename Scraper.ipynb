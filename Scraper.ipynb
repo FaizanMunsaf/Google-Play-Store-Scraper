{
  "nbformat": 4,
  "nbformat_minor": 0,
  "metadata": {
    "colab": {
      "provenance": [],
      "gpuType": "T4"
    },
    "kernelspec": {
      "name": "python3",
      "display_name": "Python 3"
    },
    "language_info": {
      "name": "python"
    },
    "accelerator": "GPU",
    "gpuClass": "standard"
  },
  "cells": [
    {
      "cell_type": "code",
      "source": [
        "# connect your personal google drive to store dataset and trained model\n",
        "from google.colab import drive\n",
        "drive.mount('/content/gdrive')\n"
      ],
      "metadata": {
        "colab": {
          "base_uri": "https://localhost:8080/"
        },
        "id": "w4LPLMpyFKEM",
        "outputId": "0f7d8203-86d8-4fed-83e0-27261f0c5b13"
      },
      "execution_count": 1,
      "outputs": [
        {
          "output_type": "stream",
          "name": "stdout",
          "text": [
            "Mounted at /content/gdrive\n"
          ]
        }
      ]
    },
    {
      "cell_type": "code",
      "execution_count": 2,
      "metadata": {
        "id": "k37CiZ1QNLCd"
      },
      "outputs": [],
      "source": [
        "! pip install -q google_play_scraper"
      ]
    },
    {
      "cell_type": "code",
      "source": [
        "!pip install -q transformers"
      ],
      "metadata": {
        "id": "sT1n37dePMOg"
      },
      "execution_count": 3,
      "outputs": []
    },
    {
      "cell_type": "code",
      "source": [
        "!pip install -q plotly-express"
      ],
      "metadata": {
        "id": "LG8pPbkzPp6w"
      },
      "execution_count": 4,
      "outputs": []
    },
    {
      "cell_type": "code",
      "source": [
        "!pip install pyyaml\n",
        "# --5.4.1"
      ],
      "metadata": {
        "colab": {
          "base_uri": "https://localhost:8080/"
        },
        "id": "2FkOKheePRHy",
        "outputId": "9f4acbb3-71be-4daf-ab4d-290ff5294ae8"
      },
      "execution_count": 5,
      "outputs": [
        {
          "output_type": "stream",
          "name": "stdout",
          "text": [
            "Looking in indexes: https://pypi.org/simple, https://us-python.pkg.dev/colab-wheels/public/simple/\n",
            "Requirement already satisfied: pyyaml in /usr/local/lib/python3.10/dist-packages (6.0)\n"
          ]
        }
      ]
    },
    {
      "cell_type": "code",
      "source": [
        "import pandas as pd\n",
        "import numpy as np\n",
        "from google_play_scraper import app,Sort,reviews_all\n",
        "import plotly_express as px\n"
      ],
      "metadata": {
        "id": "b8un9qWFQKLs"
      },
      "execution_count": 6,
      "outputs": []
    },
    {
      "cell_type": "code",
      "source": [
        "hk_project = reviews_all('com.tencent.mm',sleep_milliseconds=0,lang='en',country='IT',sort=Sort.NEWEST)"
      ],
      "metadata": {
        "id": "RyXParo4Rubr"
      },
      "execution_count": null,
      "outputs": []
    },
    {
      "cell_type": "code",
      "source": [
        "hk_project"
      ],
      "metadata": {
        "id": "YhZ3KRCQWdxU"
      },
      "execution_count": null,
      "outputs": []
    },
    {
      "cell_type": "code",
      "source": [
        "df=pd.json_normalize(hk_project)"
      ],
      "metadata": {
        "id": "qB97nqhxWiak"
      },
      "execution_count": null,
      "outputs": []
    },
    {
      "cell_type": "code",
      "source": [
        "df.shape[1]"
      ],
      "metadata": {
        "id": "lgKhoJUwEc-z"
      },
      "execution_count": null,
      "outputs": []
    },
    {
      "cell_type": "code",
      "source": [
        "df.head()"
      ],
      "metadata": {
        "id": "fzPiqjvGXJoh"
      },
      "execution_count": null,
      "outputs": []
    },
    {
      "cell_type": "code",
      "source": [
        "df.to_csv('/content/gdrive/My Drive/sample_data/dataset/review.csv', index= False)"
      ],
      "metadata": {
        "id": "IIuECYjHYp8a"
      },
      "execution_count": null,
      "outputs": []
    }
  ]
}